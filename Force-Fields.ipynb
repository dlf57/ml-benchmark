{
 "cells": [
  {
   "cell_type": "code",
   "execution_count": 1,
   "metadata": {},
   "outputs": [],
   "source": [
    "import pybel\n",
    "import pandas as pd\n",
    "import glob\n",
    "import re\n",
    "\n",
    "numbers = re.compile(r'(\\d+)')\n",
    "def numericalSort(value):\n",
    "    parts = numbers.split(value)\n",
    "    parts[1::2] = map(int, parts[1::2])\n",
    "    return parts"
   ]
  },
  {
   "cell_type": "markdown",
   "metadata": {},
   "source": [
    "### MMFF94"
   ]
  },
  {
   "cell_type": "code",
   "execution_count": 2,
   "metadata": {},
   "outputs": [],
   "source": [
    "molecules = ['C6H6-C', 'C6H6-H', 'CH3OH', 'CH4', 'CO', 'H2', 'H2CCH2', 'H2O', 'HCCH',\n",
    "             'HCN', 'HF', 'N2', 'NH3']\n",
    "\n",
    "results = []\n",
    "for molecule in molecules:\n",
    "    for j in range(1,46):\n",
    "        mol2 = next(pybel.readfile('sdf', 'molecules/{}/sdf/5.sdf'.format(molecule)))\n",
    "        mol = next(pybel.readfile('sdf', 'molecules/{}/sdf/{}.sdf'.format(molecule, j)))\n",
    "        natoms = mol2.OBMol.NumAtoms()\n",
    "        for i in range(natoms):\n",
    "            oldAtom = mol2.atoms[i]\n",
    "            nuAtom = mol.atoms[i]\n",
    "            oldAtom.OBAtom.SetVector(nuAtom.vector)\n",
    "            oldAtom.OBAtom.SetPartialCharge(nuAtom.partialcharge)\n",
    "            \n",
    "        ff = pybel._forcefields['mmff94']\n",
    "        ff.Setup(mol2.OBMol)\n",
    "        energy = ff.Energy()\n",
    "\n",
    "        d = {}\n",
    "        d.update({'name': molecule})\n",
    "        d.update({'point': j})\n",
    "        d.update({'mmff_energy': energy})\n",
    "        results.append(d)\n",
    "        \n",
    "mmff = pd.DataFrame(results)\n",
    "mmff.to_csv('data/mmff-results.csv', index=False)"
   ]
  },
  {
   "cell_type": "markdown",
   "metadata": {},
   "source": [
    "### GAFF"
   ]
  },
  {
   "cell_type": "code",
   "execution_count": 3,
   "metadata": {},
   "outputs": [],
   "source": [
    "molecules = ['C6H6-C', 'C6H6-H', 'CH3OH', 'CH4', 'CO', 'H2', 'H2CCH2', 'H2O', 'HCCH',\n",
    "             'HCN', 'HF', 'N2', 'NH3']\n",
    "\n",
    "results = []\n",
    "for molecule in molecules:\n",
    "    for j in range(1,46):\n",
    "        mol2 = next(pybel.readfile('sdf', 'molecules/{}/sdf/5.sdf'.format(molecule)))\n",
    "        mol = next(pybel.readfile('sdf', 'molecules/{}/sdf/{}.sdf'.format(molecule, j)))\n",
    "        natoms = mol2.OBMol.NumAtoms()\n",
    "        for i in range(natoms):\n",
    "            oldAtom = mol2.atoms[i]\n",
    "            nuAtom = mol.atoms[i]\n",
    "            oldAtom.OBAtom.SetVector(nuAtom.vector)\n",
    "            oldAtom.OBAtom.SetPartialCharge(nuAtom.partialcharge)\n",
    "    \n",
    "        ff = pybel._forcefields['gaff']\n",
    "        ff.Setup(mol2.OBMol)\n",
    "        energy = ff.Energy()\n",
    "        \n",
    "        d = {}\n",
    "        d.update({'name': molecule})\n",
    "        d.update({'point': j})\n",
    "        d.update({'gaff_energy': energy})\n",
    "        results.append(d)\n",
    "        \n",
    "gaff = pd.DataFrame(results)\n",
    "gaff.to_csv('data/gaff-results.csv', index=False)"
   ]
  }
 ],
 "metadata": {
  "kernelspec": {
   "display_name": "Python 3",
   "language": "python",
   "name": "python3"
  },
  "language_info": {
   "codemirror_mode": {
    "name": "ipython",
    "version": 3
   },
   "file_extension": ".py",
   "mimetype": "text/x-python",
   "name": "python",
   "nbconvert_exporter": "python",
   "pygments_lexer": "ipython3",
   "version": "3.6.10"
  }
 },
 "nbformat": 4,
 "nbformat_minor": 4
}

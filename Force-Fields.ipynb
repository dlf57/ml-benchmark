{
 "cells": [
  {
   "cell_type": "code",
   "execution_count": 1,
   "metadata": {},
   "outputs": [],
   "source": [
    "import pybel\n",
    "import pandas as pd\n",
    "import glob\n",
    "import re\n",
    "\n",
    "numbers = re.compile(r'(\\d+)')\n",
    "def numericalSort(value):\n",
    "    parts = numbers.split(value)\n",
    "    parts[1::2] = map(int, parts[1::2])\n",
    "    return parts"
   ]
  },
  {
   "cell_type": "code",
   "execution_count": 2,
   "metadata": {},
   "outputs": [],
   "source": [
    "results = []\n",
    "for f in sorted(glob.iglob('molecules/*/sdf/*.sdf'), key=numericalSort):\n",
    "    name = f.split('molecules/')[1].split('/sdf')[0]\n",
    "    pt = f.split('sdf/')[1].split('.')[0]\n",
    "    mol = next(pybel.readfile('sdf', f))\n",
    "    ff = pybel._forcefields['mmff94']\n",
    "    ff.Setup(mol.OBMol)\n",
    "    energy = ff.Energy()\n",
    "    d = {}\n",
    "    d.update({'name': name})\n",
    "    d.update({'point': pt})\n",
    "    d.update({'mmff_energy': energy})\n",
    "    results.append(d)\n",
    "\n",
    "mmff = pd.DataFrame(results)\n",
    "mmff.to_csv('data/mmff-results.csv', index=False)"
   ]
  },
  {
   "cell_type": "code",
   "execution_count": 3,
   "metadata": {},
   "outputs": [],
   "source": [
    "results = []\n",
    "for f in sorted(glob.iglob('molecules/*/sdf/*.sdf'), key=numericalSort):\n",
    "    name = f.split('molecules/')[1].split('/sdf')[0]\n",
    "    pt = f.split('sdf/')[1].split('.')[0]\n",
    "    mol = next(pybel.readfile('sdf', f))\n",
    "    ff = pybel._forcefields['gaff']\n",
    "    ff.Setup(mol.OBMol)\n",
    "    energy = ff.Energy()\n",
    "    d = {}\n",
    "    d.update({'name': name})\n",
    "    d.update({'point': pt})\n",
    "    d.update({'gaff_energy': energy})\n",
    "    results.append(d)\n",
    "\n",
    "gaff = pd.DataFrame(results)\n",
    "gaff.to_csv('data/gaff-results.csv', index=False)"
   ]
  }
 ],
 "metadata": {
  "kernelspec": {
   "display_name": "Python 3",
   "language": "python",
   "name": "python3"
  },
  "language_info": {
   "codemirror_mode": {
    "name": "ipython",
    "version": 3
   },
   "file_extension": ".py",
   "mimetype": "text/x-python",
   "name": "python",
   "nbconvert_exporter": "python",
   "pygments_lexer": "ipython3",
   "version": "3.6.10"
  }
 },
 "nbformat": 4,
 "nbformat_minor": 4
}

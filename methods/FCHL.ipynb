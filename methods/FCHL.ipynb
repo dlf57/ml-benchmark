{
 "cells": [
  {
   "cell_type": "code",
   "execution_count": 5,
   "metadata": {},
   "outputs": [],
   "source": [
    "import glob\n",
    "import cclib\n",
    "import pandas as pd\n",
    "from qml.fchl import generate_representation\n",
    "import numpy as np\n",
    "import re\n",
    "\n",
    "numbers = re.compile(r'(\\d+)')\n",
    "def numericalSort(value):\n",
    "    parts = numbers.split(value)\n",
    "    parts[1::2] = map(int, parts[1::2])\n",
    "    return parts"
   ]
  },
  {
   "cell_type": "code",
   "execution_count": 8,
   "metadata": {},
   "outputs": [],
   "source": [
    "reps = []\n",
    "energies = []\n",
    "for out in sorted(glob.iglob('molecules/*/Orca/*.out'), key=numericalSort):\n",
    "    name = out.split('es/')[1].split('/Orca')[0]\n",
    "    pt = out.split('Orca/')[1].split('/orca')[0]\n",
    "    data = cclib.io.ccread(out)\n",
    "    at_num = data.atomnos\n",
    "    coords = data.atomcoords[-1]\n",
    "#         coords = coords.tolist()\n",
    "    rep = generate_representation(coords, at_num)\n",
    "#     print(rep)\n",
    "    actE = data.scfenergies[-1]\n",
    "    reps.append(rep)\n",
    "    energies.append(actE)"
   ]
  },
  {
   "cell_type": "code",
   "execution_count": 10,
   "metadata": {},
   "outputs": [],
   "source": [
    "X = np.array(reps)\n",
    "y = np.array(energies)"
   ]
  },
  {
   "cell_type": "code",
   "execution_count": 12,
   "metadata": {},
   "outputs": [],
   "source": [
    "X_train = X[:300]\n",
    "y_train = y[:300]\n",
    "\n",
    "X_test = X[301:-1]\n",
    "y_test = y[301:-1]"
   ]
  },
  {
   "cell_type": "code",
   "execution_count": 53,
   "metadata": {},
   "outputs": [
    {
     "name": "stdout",
     "output_type": "stream",
     "text": [
      "(300, 300)\n"
     ]
    }
   ],
   "source": [
    "from qml.fchl import get_local_kernels\n",
    "\n",
    "# You can get kernels for multiple kernel-widths\n",
    "sigma = [2.5, 100]\n",
    "\n",
    "# Calculate the kernel-matrices for each sigma\n",
    "K = get_local_kernels(X_train, X_train, sigma, cut_distance=10.0)[0]\n",
    "\n",
    "print(K.shape)"
   ]
  },
  {
   "cell_type": "code",
   "execution_count": 38,
   "metadata": {},
   "outputs": [
    {
     "name": "stdout",
     "output_type": "stream",
     "text": [
      "[ 5.73996041e+05 -2.70159765e+06  4.12111616e+06 -9.91342963e+05\n",
      " -3.03672353e+06  5.88979963e+05  5.02678402e+06 -4.55586595e+06\n",
      " -1.82844415e+06  2.26189467e+06 -3.14906973e+06  1.23225790e+06\n",
      " -6.31106841e+03 -7.08614261e+04 -1.14509512e+05 -1.47833737e+05\n",
      "  9.72505976e+05 -1.28334344e+06  5.52437185e+05 -3.09259834e+04\n",
      "  2.64837812e+05 -6.73353418e+05  1.47413493e+06 -1.79661890e+06\n",
      "  6.48762763e+04  1.56058969e+06 -5.29231917e+04  1.26585215e+03\n",
      " -5.23374930e+06  5.80286137e+06  3.93420586e+06 -1.25264225e+07\n",
      "  1.07096475e+07 -3.58715602e+06  1.13483737e+06 -6.14935634e+05\n",
      "  3.52047376e+05 -5.20369999e+05 -4.80416308e+06  1.20456958e+07\n",
      " -1.03256305e+07  9.55412375e+05  6.42212768e+06 -5.26333520e+06\n",
      "  6.31651442e+05 -3.69042815e+05  1.68789662e+06 -2.99322164e+06\n",
      "  2.07307709e+06  6.65665341e+05 -1.05775280e+06  9.44545968e+05\n",
      "  5.99761006e+06 -8.87404997e+06  6.91408250e+06 -2.17568437e+06\n",
      " -1.93506463e+06  3.20495212e+06 -1.35681165e+06 -2.60821881e+06\n",
      "  8.01847037e+06 -1.33015418e+07  1.51077266e+07 -6.63830821e+06\n",
      " -8.92021812e+06  1.84339472e+07 -1.83371343e+07  1.63831326e+07\n",
      " -8.85893746e+06 -1.32091506e+07  1.76323388e+07  2.50272682e+07\n",
      " -4.95177073e+07 -9.68979472e+06  6.68915736e+07 -3.78686284e+07\n",
      " -1.51317027e+07  8.58445765e+06  9.70990928e+07 -2.09857715e+08\n",
      "  1.64167876e+08 -4.47838195e+07  4.20559358e+07  8.65026744e+07\n",
      " -3.48135862e+08  4.52314858e+08 -6.64814051e+08  9.48523139e+08\n",
      " -5.43739325e+08  2.85407459e+07  1.93704476e+06 -5.49046452e+06\n",
      "  4.57245268e+06 -1.01383926e+06  5.75117938e+05  4.00644672e+05\n",
      " -1.42564094e+06 -5.79283242e+05  1.01867291e+06  9.48333137e+05\n",
      " -1.18264892e+06 -3.08945007e+05  1.43761447e+06 -1.66072147e+06\n",
      "  1.16673356e+06  2.99665695e+04 -1.56313007e+06  2.78426402e+06\n",
      " -3.07224093e+06  2.33575635e+06 -1.53385448e+06  1.00925468e+06\n",
      " -2.88430399e+05 -3.31835633e+05  2.43818643e+05  1.04732829e+05\n",
      " -3.79437494e+05  1.02245330e+06 -8.20142954e+05 -5.32888378e+05\n",
      "  2.51619106e+06 -2.02710944e+06 -2.33658922e+06  4.79806574e+06\n",
      " -2.45043512e+06  4.62922256e+05 -1.37661204e+06  5.11954083e+05\n",
      "  2.52499315e+06 -2.86915090e+06  6.04701170e+05  1.53047052e+06\n",
      " -1.85454075e+06 -1.37078417e+06  1.93320991e+06  1.47109883e+02\n",
      "  9.96718660e+03 -5.15423786e+04  1.42121756e+05 -2.77047513e+05\n",
      "  4.32345858e+05 -5.68209886e+05  6.56089504e+05 -7.55415512e+05\n",
      "  9.39136253e+05 -1.19683815e+06  1.45266115e+06 -1.70031778e+06\n",
      "  2.33049046e+06 -4.48696378e+06  7.77498060e+06 -1.01418546e+07\n",
      "  8.25075965e+06 -6.43755869e+06  8.39023128e+06 -1.39591604e+07\n",
      "  2.30547738e+07 -3.49390314e+07  4.02289391e+07 -2.76028239e+07\n",
      "  1.10107687e+07 -2.17153329e+07  2.30587105e+07  1.72488194e+07\n",
      " -1.87605942e+07 -2.35161387e+07  3.23320232e+06  3.06046608e+07\n",
      "  1.16038375e+06 -5.23290953e+07 -9.19203705e+06  1.72978091e+08\n",
      " -5.59229382e+07 -5.63621301e+08  5.76076266e+08  4.92751006e+08\n",
      " -9.18866649e+08  1.04966823e+08  1.25891046e+08  1.13516618e+08\n",
      " -8.97586079e+05  9.36288923e+05  6.65421313e+05  2.00441339e+05\n",
      " -5.79233483e+05 -7.02482316e+05 -3.71650580e+05  1.90103699e+05\n",
      "  7.62385270e+05  4.17223950e+05 -6.26874103e+05 -4.38524776e+05\n",
      "  7.99706276e+05 -5.30491865e+05  3.37297323e+05 -7.15509520e+05\n",
      "  4.17020555e+05  1.04927473e+06 -3.47747276e+06  3.56675045e+06\n",
      "  2.69149947e+06 -9.88339267e+06  2.59446517e+06  2.03387410e+07\n",
      " -3.81649727e+07  4.33748066e+07 -3.95870990e+07 -3.84103599e+06\n",
      "  5.86803394e+07  4.06925733e+06 -1.01927017e+08 -6.82064508e+07\n",
      "  2.79884244e+08  4.68147725e+07 -2.97916152e+08 -5.79462831e+08\n",
      "  1.49529263e+09 -9.48440703e+08  7.36499177e+07 -6.59158462e+06\n",
      " -1.40344046e+07  2.76577037e+08 -3.19502781e+08  2.32428272e+08\n",
      " -1.09851710e+08 -3.93599901e+00 -6.30808315e+00 -1.13280905e+01\n",
      "  7.06374231e+01 -1.06846307e+03  1.08410267e+04 -5.66222934e+04\n",
      "  1.40986146e+05 -8.60029457e+04 -3.82971857e+05  9.73014307e+05\n",
      " -6.95476611e+05 -5.19196257e+05  9.21901815e+05  3.66945034e+05\n",
      " -1.21975507e+06 -2.46519531e+05  1.72413187e+06 -6.94829749e+04\n",
      " -2.45124187e+06 -4.23667567e+04  3.32221011e+06  7.19360839e+05\n",
      " -3.86714756e+06 -2.30271616e+06  3.64813932e+06  4.10774955e+06\n",
      " -1.09568851e+06 -4.05499058e+06 -1.55793991e+06  1.54235554e+06\n",
      "  2.99838010e+06  3.21691342e+06  1.03884197e+06 -2.07127564e+06\n",
      " -1.95980463e+06 -1.31104035e+06 -4.75901938e+06 -4.42496320e+06\n",
      "  8.06560433e+06  1.85099446e+07  7.20639499e+06 -1.49183713e+07\n",
      " -1.73804039e+07  6.72490623e+06 -2.03834410e+06  3.27691163e+06\n",
      "  3.27277822e+04 -1.26772204e+06  2.73435561e+06 -5.30602181e+06\n",
      "  1.22778534e+06 -3.38682436e+05  2.98425230e+06  9.82975434e+05\n",
      " -1.87329332e+06 -3.78150342e+06  5.56031603e+06 -3.40560201e+06\n",
      "  1.82786198e+06 -1.34481166e+05 -2.70916247e+06  2.73495837e+06\n",
      "  8.00274616e+05 -3.34788071e+06  5.96642037e+06 -7.86775472e+06\n",
      "  1.88738936e+06  6.44412440e+06 -3.51198465e+06 -6.05636457e+06\n",
      "  4.81131958e+06  5.25261297e+06 -6.25169101e+06  1.41754810e+06]\n"
     ]
    }
   ],
   "source": [
    "from qml.math import cho_solve\n",
    "# Add a small lambda to the diagonal of the kernel matrix\n",
    "K[np.diag_indices_from(K)] += 1e-8\n",
    "\n",
    "# Use the built-in Cholesky-decomposition to solve\n",
    "alpha = cho_solve(K, y_train)\n",
    "\n",
    "print(alpha)"
   ]
  },
  {
   "cell_type": "code",
   "execution_count": 39,
   "metadata": {},
   "outputs": [],
   "source": [
    "# Calculate the kernel-matrices for each sigma\n",
    "K_pred = get_local_kernels(X_test, X_train, sigma, cut_distance=10.0)[0]\n",
    "pred = np.dot(K_pred, alpha)"
   ]
  },
  {
   "cell_type": "code",
   "execution_count": 41,
   "metadata": {},
   "outputs": [
    {
     "data": {
      "text/plain": [
       "283"
      ]
     },
     "execution_count": 41,
     "metadata": {},
     "output_type": "execute_result"
    }
   ],
   "source": [
    "len(pred)"
   ]
  },
  {
   "cell_type": "code",
   "execution_count": 43,
   "metadata": {},
   "outputs": [
    {
     "data": {
      "text/plain": [
       "283"
      ]
     },
     "execution_count": 43,
     "metadata": {},
     "output_type": "execute_result"
    }
   ],
   "source": [
    "len(y_test)"
   ]
  },
  {
   "cell_type": "code",
   "execution_count": 45,
   "metadata": {},
   "outputs": [
    {
     "name": "stdout",
     "output_type": "stream",
     "text": [
      "232.48559466640114\n"
     ]
    }
   ],
   "source": [
    "mae = np.mean(np.abs(y_test - pred))\n",
    "print(mae)"
   ]
  },
  {
   "cell_type": "markdown",
   "metadata": {},
   "source": [
    "### Different K"
   ]
  },
  {
   "cell_type": "code",
   "execution_count": 57,
   "metadata": {},
   "outputs": [
    {
     "name": "stdout",
     "output_type": "stream",
     "text": [
      "(300, 300)\n"
     ]
    }
   ],
   "source": [
    "# Calculate the kernel-matrices for each sigma\n",
    "K = get_local_kernels(X_train, X_train, sigma, cut_distance=10.0)[0]\n",
    "print(K.shape)"
   ]
  },
  {
   "cell_type": "code",
   "execution_count": 58,
   "metadata": {},
   "outputs": [
    {
     "name": "stdout",
     "output_type": "stream",
     "text": [
      "232.48559426675516\n"
     ]
    }
   ],
   "source": [
    "# Add a small lambda to the diagonal of the kernel matrix\n",
    "K[np.diag_indices_from(K)] += 1e-8\n",
    "\n",
    "# Use the built-in Cholesky-decomposition to solve\n",
    "alpha = cho_solve(K, y_train)\n",
    "\n",
    "# Calculate the kernel-matrices for each sigma\n",
    "K_pred = get_local_kernels(X_test, X_train, sigmas, cut_distance=10.0)[0]\n",
    "pred = np.dot(K_pred, alpha)\n",
    "\n",
    "mae = np.mean(np.abs(y_test - pred))\n",
    "print(mae)"
   ]
  },
  {
   "cell_type": "code",
   "execution_count": 62,
   "metadata": {},
   "outputs": [
    {
     "data": {
      "text/html": [
       "<div>\n",
       "<style scoped>\n",
       "    .dataframe tbody tr th:only-of-type {\n",
       "        vertical-align: middle;\n",
       "    }\n",
       "\n",
       "    .dataframe tbody tr th {\n",
       "        vertical-align: top;\n",
       "    }\n",
       "\n",
       "    .dataframe thead th {\n",
       "        text-align: right;\n",
       "    }\n",
       "</style>\n",
       "<table border=\"1\" class=\"dataframe\">\n",
       "  <thead>\n",
       "    <tr style=\"text-align: right;\">\n",
       "      <th></th>\n",
       "      <th>Energy</th>\n",
       "      <th>Pred</th>\n",
       "    </tr>\n",
       "  </thead>\n",
       "  <tbody>\n",
       "    <tr>\n",
       "      <th>0</th>\n",
       "      <td>-2128.035514</td>\n",
       "      <td>-2123.241943</td>\n",
       "    </tr>\n",
       "    <tr>\n",
       "      <th>1</th>\n",
       "      <td>-2128.032858</td>\n",
       "      <td>-2115.036545</td>\n",
       "    </tr>\n",
       "    <tr>\n",
       "      <th>2</th>\n",
       "      <td>-2128.028518</td>\n",
       "      <td>-2105.388748</td>\n",
       "    </tr>\n",
       "    <tr>\n",
       "      <th>3</th>\n",
       "      <td>-2128.037976</td>\n",
       "      <td>-2102.246765</td>\n",
       "    </tr>\n",
       "    <tr>\n",
       "      <th>4</th>\n",
       "      <td>-2128.026577</td>\n",
       "      <td>-2107.732239</td>\n",
       "    </tr>\n",
       "    <tr>\n",
       "      <th>...</th>\n",
       "      <td>...</td>\n",
       "      <td>...</td>\n",
       "    </tr>\n",
       "    <tr>\n",
       "      <th>278</th>\n",
       "      <td>-1518.308108</td>\n",
       "      <td>-1859.406273</td>\n",
       "    </tr>\n",
       "    <tr>\n",
       "      <th>279</th>\n",
       "      <td>-1518.240095</td>\n",
       "      <td>-1857.794182</td>\n",
       "    </tr>\n",
       "    <tr>\n",
       "      <th>280</th>\n",
       "      <td>-1518.180197</td>\n",
       "      <td>-1858.943657</td>\n",
       "    </tr>\n",
       "    <tr>\n",
       "      <th>281</th>\n",
       "      <td>-1518.117057</td>\n",
       "      <td>-1860.307114</td>\n",
       "    </tr>\n",
       "    <tr>\n",
       "      <th>282</th>\n",
       "      <td>-1518.055211</td>\n",
       "      <td>-1862.237709</td>\n",
       "    </tr>\n",
       "  </tbody>\n",
       "</table>\n",
       "<p>283 rows × 2 columns</p>\n",
       "</div>"
      ],
      "text/plain": [
       "          Energy         Pred\n",
       "0   -2128.035514 -2123.241943\n",
       "1   -2128.032858 -2115.036545\n",
       "2   -2128.028518 -2105.388748\n",
       "3   -2128.037976 -2102.246765\n",
       "4   -2128.026577 -2107.732239\n",
       "..           ...          ...\n",
       "278 -1518.308108 -1859.406273\n",
       "279 -1518.240095 -1857.794182\n",
       "280 -1518.180197 -1858.943657\n",
       "281 -1518.117057 -1860.307114\n",
       "282 -1518.055211 -1862.237709\n",
       "\n",
       "[283 rows x 2 columns]"
      ]
     },
     "execution_count": 62,
     "metadata": {},
     "output_type": "execute_result"
    }
   ],
   "source": [
    "df = pd.DataFrame({'Energy': y_test, 'Pred': pred})\n",
    "df"
   ]
  },
  {
   "cell_type": "code",
   "execution_count": 60,
   "metadata": {},
   "outputs": [],
   "source": [
    "import pandas as pd"
   ]
  },
  {
   "cell_type": "code",
   "execution_count": null,
   "metadata": {},
   "outputs": [],
   "source": []
  }
 ],
 "metadata": {
  "kernelspec": {
   "display_name": "qml",
   "language": "python",
   "name": "qml"
  },
  "language_info": {
   "codemirror_mode": {
    "name": "ipython",
    "version": 3
   },
   "file_extension": ".py",
   "mimetype": "text/x-python",
   "name": "python",
   "nbconvert_exporter": "python",
   "pygments_lexer": "ipython3",
   "version": "3.6.10"
  }
 },
 "nbformat": 4,
 "nbformat_minor": 4
}
